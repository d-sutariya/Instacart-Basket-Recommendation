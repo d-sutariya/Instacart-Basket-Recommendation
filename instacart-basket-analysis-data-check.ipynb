{
 "cells": [
  {
   "cell_type": "code",
   "execution_count": 1,
   "id": "73cdd037",
   "metadata": {
    "execution": {
     "iopub.execute_input": "2024-11-02T15:00:59.155299Z",
     "iopub.status.busy": "2024-11-02T15:00:59.154866Z",
     "iopub.status.idle": "2024-11-02T15:01:01.278064Z",
     "shell.execute_reply": "2024-11-02T15:01:01.276912Z"
    },
    "papermill": {
     "duration": 2.132342,
     "end_time": "2024-11-02T15:01:01.281119",
     "exception": false,
     "start_time": "2024-11-02T15:00:59.148777",
     "status": "completed"
    },
    "tags": []
   },
   "outputs": [],
   "source": [
    "import numpy as np\n",
    "import pandas as pd\n",
    "import polars as pl\n",
    "import plotly.express as px"
   ]
  },
  {
   "cell_type": "code",
   "execution_count": 2,
   "id": "2311c91f",
   "metadata": {
    "execution": {
     "iopub.execute_input": "2024-11-02T15:01:01.291512Z",
     "iopub.status.busy": "2024-11-02T15:01:01.290856Z",
     "iopub.status.idle": "2024-11-02T15:01:05.629024Z",
     "shell.execute_reply": "2024-11-02T15:01:05.627913Z"
    },
    "papermill": {
     "duration": 4.346525,
     "end_time": "2024-11-02T15:01:05.631964",
     "exception": false,
     "start_time": "2024-11-02T15:01:01.285439",
     "status": "completed"
    },
    "tags": []
   },
   "outputs": [],
   "source": [
    "prior_product_orders = pl.read_csv(\"/kaggle/input/instacart-market-basket-analysis/order_products__prior.csv\")\n",
    "train_product_orders = pl.read_csv(\"/kaggle/input/instacart-market-basket-analysis/order_products__train.csv\")\n",
    "departments_df = pl.read_csv(\"/kaggle/input/instacart-market-basket-analysis/departments.csv\")\n",
    "aisels_df = pl.read_csv(\"/kaggle/input/instacart-market-basket-analysis/aisles.csv\")\n",
    "orders_df = pl.read_csv(\"/kaggle/input/instacart-market-basket-analysis/orders.csv\")\n",
    "products_df = pl.read_csv(\"/kaggle/input/instacart-market-basket-analysis/products.csv\")"
   ]
  },
  {
   "cell_type": "code",
   "execution_count": 3,
   "id": "b0bea19a",
   "metadata": {
    "execution": {
     "iopub.execute_input": "2024-11-02T15:01:05.641536Z",
     "iopub.status.busy": "2024-11-02T15:01:05.641114Z",
     "iopub.status.idle": "2024-11-02T15:01:05.647179Z",
     "shell.execute_reply": "2024-11-02T15:01:05.645870Z"
    },
    "papermill": {
     "duration": 0.013812,
     "end_time": "2024-11-02T15:01:05.649732",
     "exception": false,
     "start_time": "2024-11-02T15:01:05.635920",
     "status": "completed"
    },
    "tags": []
   },
   "outputs": [],
   "source": [
    "df_list = [prior_product_orders,orders_df,train_product_orders,products_df,aisels_df,departments_df]"
   ]
  },
  {
   "cell_type": "code",
   "execution_count": 4,
   "id": "e12ecd3b",
   "metadata": {
    "execution": {
     "iopub.execute_input": "2024-11-02T15:01:05.660639Z",
     "iopub.status.busy": "2024-11-02T15:01:05.660134Z",
     "iopub.status.idle": "2024-11-02T15:01:05.673197Z",
     "shell.execute_reply": "2024-11-02T15:01:05.672019Z"
    },
    "papermill": {
     "duration": 0.021337,
     "end_time": "2024-11-02T15:01:05.675655",
     "exception": false,
     "start_time": "2024-11-02T15:01:05.654318",
     "status": "completed"
    },
    "tags": []
   },
   "outputs": [
    {
     "data": {
      "text/plain": [
       "Schema([('order_id', Int64),\n",
       "        ('product_id', Int64),\n",
       "        ('add_to_cart_order', Int64),\n",
       "        ('reordered', Int64)])"
      ]
     },
     "execution_count": 4,
     "metadata": {},
     "output_type": "execute_result"
    }
   ],
   "source": [
    "prior_product_orders.schema"
   ]
  },
  {
   "cell_type": "code",
   "execution_count": 5,
   "id": "6903b22b",
   "metadata": {
    "execution": {
     "iopub.execute_input": "2024-11-02T15:01:05.686073Z",
     "iopub.status.busy": "2024-11-02T15:01:05.685634Z",
     "iopub.status.idle": "2024-11-02T15:01:05.694239Z",
     "shell.execute_reply": "2024-11-02T15:01:05.692959Z"
    },
    "papermill": {
     "duration": 0.016736,
     "end_time": "2024-11-02T15:01:05.696864",
     "exception": false,
     "start_time": "2024-11-02T15:01:05.680128",
     "status": "completed"
    },
    "tags": []
   },
   "outputs": [
    {
     "data": {
      "text/plain": [
       "Schema([('order_id', Int64),\n",
       "        ('user_id', Int64),\n",
       "        ('eval_set', String),\n",
       "        ('order_number', Int64),\n",
       "        ('order_dow', Int64),\n",
       "        ('order_hour_of_day', Int64),\n",
       "        ('days_since_prior_order', Float64)])"
      ]
     },
     "execution_count": 5,
     "metadata": {},
     "output_type": "execute_result"
    }
   ],
   "source": [
    "orders_df.schema"
   ]
  },
  {
   "cell_type": "code",
   "execution_count": 6,
   "id": "ffb1ab94",
   "metadata": {
    "execution": {
     "iopub.execute_input": "2024-11-02T15:01:05.707679Z",
     "iopub.status.busy": "2024-11-02T15:01:05.707212Z",
     "iopub.status.idle": "2024-11-02T15:01:05.715239Z",
     "shell.execute_reply": "2024-11-02T15:01:05.714040Z"
    },
    "papermill": {
     "duration": 0.016152,
     "end_time": "2024-11-02T15:01:05.717599",
     "exception": false,
     "start_time": "2024-11-02T15:01:05.701447",
     "status": "completed"
    },
    "tags": []
   },
   "outputs": [
    {
     "data": {
      "text/plain": [
       "Schema([('aisle_id', Int64), ('aisle', String)])"
      ]
     },
     "execution_count": 6,
     "metadata": {},
     "output_type": "execute_result"
    }
   ],
   "source": [
    "aisels_df.schema"
   ]
  },
  {
   "cell_type": "code",
   "execution_count": 7,
   "id": "2809e3eb",
   "metadata": {
    "execution": {
     "iopub.execute_input": "2024-11-02T15:01:05.728278Z",
     "iopub.status.busy": "2024-11-02T15:01:05.727795Z",
     "iopub.status.idle": "2024-11-02T15:01:05.735888Z",
     "shell.execute_reply": "2024-11-02T15:01:05.734665Z"
    },
    "papermill": {
     "duration": 0.016232,
     "end_time": "2024-11-02T15:01:05.738312",
     "exception": false,
     "start_time": "2024-11-02T15:01:05.722080",
     "status": "completed"
    },
    "tags": []
   },
   "outputs": [
    {
     "data": {
      "text/plain": [
       "Schema([('product_id', Int64),\n",
       "        ('product_name', String),\n",
       "        ('aisle_id', Int64),\n",
       "        ('department_id', Int64)])"
      ]
     },
     "execution_count": 7,
     "metadata": {},
     "output_type": "execute_result"
    }
   ],
   "source": [
    "products_df.schema"
   ]
  },
  {
   "cell_type": "code",
   "execution_count": 8,
   "id": "bfd4f27e",
   "metadata": {
    "execution": {
     "iopub.execute_input": "2024-11-02T15:01:05.749672Z",
     "iopub.status.busy": "2024-11-02T15:01:05.749211Z",
     "iopub.status.idle": "2024-11-02T15:01:05.775610Z",
     "shell.execute_reply": "2024-11-02T15:01:05.774023Z"
    },
    "papermill": {
     "duration": 0.035349,
     "end_time": "2024-11-02T15:01:05.778434",
     "exception": false,
     "start_time": "2024-11-02T15:01:05.743085",
     "status": "completed"
    },
    "scrolled": true,
    "tags": []
   },
   "outputs": [
    {
     "name": "stdout",
     "output_type": "stream",
     "text": [
      "shape: (1, 4)\n",
      "┌──────────┬────────────┬───────────────────┬───────────┐\n",
      "│ order_id ┆ product_id ┆ add_to_cart_order ┆ reordered │\n",
      "│ ---      ┆ ---        ┆ ---               ┆ ---       │\n",
      "│ u32      ┆ u32        ┆ u32               ┆ u32       │\n",
      "╞══════════╪════════════╪═══════════════════╪═══════════╡\n",
      "│ 0        ┆ 0          ┆ 0                 ┆ 0         │\n",
      "└──────────┴────────────┴───────────────────┴───────────┘\n",
      "shape: (1, 7)\n",
      "┌──────────┬─────────┬──────────┬──────────────┬───────────┬───────────────────┬───────────────────┐\n",
      "│ order_id ┆ user_id ┆ eval_set ┆ order_number ┆ order_dow ┆ order_hour_of_day ┆ days_since_prior_ │\n",
      "│ ---      ┆ ---     ┆ ---      ┆ ---          ┆ ---       ┆ ---               ┆ order             │\n",
      "│ u32      ┆ u32     ┆ u32      ┆ u32          ┆ u32       ┆ u32               ┆ ---               │\n",
      "│          ┆         ┆          ┆              ┆           ┆                   ┆ u32               │\n",
      "╞══════════╪═════════╪══════════╪══════════════╪═══════════╪═══════════════════╪═══════════════════╡\n",
      "│ 0        ┆ 0       ┆ 0        ┆ 0            ┆ 0         ┆ 0                 ┆ 206209            │\n",
      "└──────────┴─────────┴──────────┴──────────────┴───────────┴───────────────────┴───────────────────┘\n",
      "shape: (1, 4)\n",
      "┌──────────┬────────────┬───────────────────┬───────────┐\n",
      "│ order_id ┆ product_id ┆ add_to_cart_order ┆ reordered │\n",
      "│ ---      ┆ ---        ┆ ---               ┆ ---       │\n",
      "│ u32      ┆ u32        ┆ u32               ┆ u32       │\n",
      "╞══════════╪════════════╪═══════════════════╪═══════════╡\n",
      "│ 0        ┆ 0          ┆ 0                 ┆ 0         │\n",
      "└──────────┴────────────┴───────────────────┴───────────┘\n",
      "shape: (1, 4)\n",
      "┌────────────┬──────────────┬──────────┬───────────────┐\n",
      "│ product_id ┆ product_name ┆ aisle_id ┆ department_id │\n",
      "│ ---        ┆ ---          ┆ ---      ┆ ---           │\n",
      "│ u32        ┆ u32          ┆ u32      ┆ u32           │\n",
      "╞════════════╪══════════════╪══════════╪═══════════════╡\n",
      "│ 0          ┆ 0            ┆ 0        ┆ 0             │\n",
      "└────────────┴──────────────┴──────────┴───────────────┘\n",
      "shape: (1, 2)\n",
      "┌──────────┬───────┐\n",
      "│ aisle_id ┆ aisle │\n",
      "│ ---      ┆ ---   │\n",
      "│ u32      ┆ u32   │\n",
      "╞══════════╪═══════╡\n",
      "│ 0        ┆ 0     │\n",
      "└──────────┴───────┘\n",
      "shape: (1, 2)\n",
      "┌───────────────┬────────────┐\n",
      "│ department_id ┆ department │\n",
      "│ ---           ┆ ---        │\n",
      "│ u32           ┆ u32        │\n",
      "╞═══════════════╪════════════╡\n",
      "│ 0             ┆ 0          │\n",
      "└───────────────┴────────────┘\n"
     ]
    }
   ],
   "source": [
    "# let's check for null values.\n",
    "for df in df_list:\n",
    "    print(df.null_count())\n",
    "\n",
    "# as we can see only days_since_prior_order contains null as first order hasn't any prior orders."
   ]
  },
  {
   "cell_type": "code",
   "execution_count": 9,
   "id": "b5b86dce",
   "metadata": {
    "execution": {
     "iopub.execute_input": "2024-11-02T15:01:05.789405Z",
     "iopub.status.busy": "2024-11-02T15:01:05.788964Z",
     "iopub.status.idle": "2024-11-02T15:01:06.248304Z",
     "shell.execute_reply": "2024-11-02T15:01:06.246865Z"
    },
    "papermill": {
     "duration": 0.467853,
     "end_time": "2024-11-02T15:01:06.250984",
     "exception": false,
     "start_time": "2024-11-02T15:01:05.783131",
     "status": "completed"
    },
    "tags": []
   },
   "outputs": [
    {
     "name": "stdout",
     "output_type": "stream",
     "text": [
      "2\n",
      "2\n"
     ]
    }
   ],
   "source": [
    "# let's check for the label consistency \n",
    "\n",
    "print(prior_product_orders['reordered'].n_unique())\n",
    "print(train_product_orders['reordered'].n_unique())"
   ]
  },
  {
   "cell_type": "code",
   "execution_count": 10,
   "id": "fe1f068c",
   "metadata": {
    "execution": {
     "iopub.execute_input": "2024-11-02T15:01:06.263184Z",
     "iopub.status.busy": "2024-11-02T15:01:06.262699Z",
     "iopub.status.idle": "2024-11-02T15:01:06.365867Z",
     "shell.execute_reply": "2024-11-02T15:01:06.364689Z"
    },
    "papermill": {
     "duration": 0.112989,
     "end_time": "2024-11-02T15:01:06.368624",
     "exception": false,
     "start_time": "2024-11-02T15:01:06.255635",
     "status": "completed"
    },
    "tags": []
   },
   "outputs": [
    {
     "data": {
      "text/html": [
       "<div><style>\n",
       ".dataframe > thead > tr,\n",
       ".dataframe > tbody > tr {\n",
       "  text-align: right;\n",
       "  white-space: pre-wrap;\n",
       "}\n",
       "</style>\n",
       "<small>shape: (3,)</small><table border=\"1\" class=\"dataframe\"><thead><tr><th>eval_set</th></tr><tr><td>str</td></tr></thead><tbody><tr><td>&quot;test&quot;</td></tr><tr><td>&quot;train&quot;</td></tr><tr><td>&quot;prior&quot;</td></tr></tbody></table></div>"
      ],
      "text/plain": [
       "shape: (3,)\n",
       "Series: 'eval_set' [str]\n",
       "[\n",
       "\t\"test\"\n",
       "\t\"train\"\n",
       "\t\"prior\"\n",
       "]"
      ]
     },
     "execution_count": 10,
     "metadata": {},
     "output_type": "execute_result"
    }
   ],
   "source": [
    "# let's check differenct eval_set\n",
    "\n",
    "orders_df['eval_set'].unique()"
   ]
  },
  {
   "cell_type": "code",
   "execution_count": 11,
   "id": "e5579547",
   "metadata": {
    "execution": {
     "iopub.execute_input": "2024-11-02T15:01:06.380991Z",
     "iopub.status.busy": "2024-11-02T15:01:06.380560Z",
     "iopub.status.idle": "2024-11-02T15:01:06.499728Z",
     "shell.execute_reply": "2024-11-02T15:01:06.498573Z"
    },
    "papermill": {
     "duration": 0.127839,
     "end_time": "2024-11-02T15:01:06.502238",
     "exception": false,
     "start_time": "2024-11-02T15:01:06.374399",
     "status": "completed"
    },
    "tags": []
   },
   "outputs": [
    {
     "name": "stdout",
     "output_type": "stream",
     "text": [
      "shape: (7,)\n",
      "Series: 'order_dow' [i64]\n",
      "[\n",
      "\t0\n",
      "\t1\n",
      "\t2\n",
      "\t3\n",
      "\t4\n",
      "\t5\n",
      "\t6\n",
      "]\n"
     ]
    },
    {
     "data": {
      "text/html": [
       "<div><style>\n",
       ".dataframe > thead > tr,\n",
       ".dataframe > tbody > tr {\n",
       "  text-align: right;\n",
       "  white-space: pre-wrap;\n",
       "}\n",
       "</style>\n",
       "<small>shape: (24,)</small><table border=\"1\" class=\"dataframe\"><thead><tr><th>order_hour_of_day</th></tr><tr><td>i64</td></tr></thead><tbody><tr><td>0</td></tr><tr><td>1</td></tr><tr><td>2</td></tr><tr><td>3</td></tr><tr><td>4</td></tr><tr><td>&hellip;</td></tr><tr><td>19</td></tr><tr><td>20</td></tr><tr><td>21</td></tr><tr><td>22</td></tr><tr><td>23</td></tr></tbody></table></div>"
      ],
      "text/plain": [
       "shape: (24,)\n",
       "Series: 'order_hour_of_day' [i64]\n",
       "[\n",
       "\t0\n",
       "\t1\n",
       "\t2\n",
       "\t3\n",
       "\t4\n",
       "\t…\n",
       "\t19\n",
       "\t20\n",
       "\t21\n",
       "\t22\n",
       "\t23\n",
       "]"
      ]
     },
     "execution_count": 11,
     "metadata": {},
     "output_type": "execute_result"
    }
   ],
   "source": [
    "# let's check consistency of the order_df\n",
    "print(orders_df['order_dow'].unique())\n",
    "orders_df['order_hour_of_day'].unique()"
   ]
  },
  {
   "cell_type": "code",
   "execution_count": 12,
   "id": "4ec9bcf3",
   "metadata": {
    "execution": {
     "iopub.execute_input": "2024-11-02T15:01:06.514878Z",
     "iopub.status.busy": "2024-11-02T15:01:06.513650Z",
     "iopub.status.idle": "2024-11-02T15:01:06.524578Z",
     "shell.execute_reply": "2024-11-02T15:01:06.523389Z"
    },
    "papermill": {
     "duration": 0.019955,
     "end_time": "2024-11-02T15:01:06.527177",
     "exception": false,
     "start_time": "2024-11-02T15:01:06.507222",
     "status": "completed"
    },
    "tags": []
   },
   "outputs": [
    {
     "data": {
      "text/plain": [
       "30.0"
      ]
     },
     "execution_count": 12,
     "metadata": {},
     "output_type": "execute_result"
    }
   ],
   "source": [
    "# days_since_prior_orders is also looking convenient\n",
    "\n",
    "orders_df['days_since_prior_order'].max()"
   ]
  },
  {
   "cell_type": "code",
   "execution_count": null,
   "id": "40018e38",
   "metadata": {
    "papermill": {
     "duration": 0.004869,
     "end_time": "2024-11-02T15:01:06.537206",
     "exception": false,
     "start_time": "2024-11-02T15:01:06.532337",
     "status": "completed"
    },
    "tags": []
   },
   "outputs": [],
   "source": []
  }
 ],
 "metadata": {
  "kaggle": {
   "accelerator": "none",
   "dataSources": [
    {
     "datasetId": 4931,
     "sourceId": 7487,
     "sourceType": "datasetVersion"
    }
   ],
   "dockerImageVersionId": 30786,
   "isGpuEnabled": false,
   "isInternetEnabled": true,
   "language": "python",
   "sourceType": "notebook"
  },
  "kernelspec": {
   "display_name": "Python 3",
   "language": "python",
   "name": "python3"
  },
  "language_info": {
   "codemirror_mode": {
    "name": "ipython",
    "version": 3
   },
   "file_extension": ".py",
   "mimetype": "text/x-python",
   "name": "python",
   "nbconvert_exporter": "python",
   "pygments_lexer": "ipython3",
   "version": "3.10.14"
  },
  "papermill": {
   "default_parameters": {},
   "duration": 11.16014,
   "end_time": "2024-11-02T15:01:07.264527",
   "environment_variables": {},
   "exception": null,
   "input_path": "__notebook__.ipynb",
   "output_path": "__notebook__.ipynb",
   "parameters": {},
   "start_time": "2024-11-02T15:00:56.104387",
   "version": "2.6.0"
  }
 },
 "nbformat": 4,
 "nbformat_minor": 5
}
