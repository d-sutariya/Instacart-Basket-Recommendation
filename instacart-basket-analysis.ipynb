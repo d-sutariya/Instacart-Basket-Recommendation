{
 "cells": [
  {
   "cell_type": "code",
   "execution_count": 1,
   "id": "42d12f38",
   "metadata": {
    "execution": {
     "iopub.execute_input": "2024-10-11T11:19:46.279911Z",
     "iopub.status.busy": "2024-10-11T11:19:46.279425Z",
     "iopub.status.idle": "2024-10-11T11:20:37.177716Z",
     "shell.execute_reply": "2024-10-11T11:20:37.176530Z"
    },
    "papermill": {
     "duration": 50.913286,
     "end_time": "2024-10-11T11:20:37.180535",
     "exception": false,
     "start_time": "2024-10-11T11:19:46.267249",
     "status": "completed"
    },
    "tags": []
   },
   "outputs": [
    {
     "name": "stdout",
     "output_type": "stream",
     "text": [
      "Collecting pyspark\r\n",
      "  Downloading pyspark-3.5.3.tar.gz (317.3 MB)\r\n",
      "\u001b[2K     \u001b[90m━━━━━━━━━━━━━━━━━━━━━━━━━━━━━━━━━━━━━━━\u001b[0m \u001b[32m317.3/317.3 MB\u001b[0m \u001b[31m4.2 MB/s\u001b[0m eta \u001b[36m0:00:00\u001b[0m\r\n",
      "\u001b[?25h  Preparing metadata (setup.py) ... \u001b[?25l-\b \b\\\b \bdone\r\n",
      "\u001b[?25hRequirement already satisfied: py4j==0.10.9.7 in /opt/conda/lib/python3.10/site-packages (from pyspark) (0.10.9.7)\r\n",
      "Building wheels for collected packages: pyspark\r\n",
      "  Building wheel for pyspark (setup.py) ... \u001b[?25l-\b \b\\\b \b|\b \bdone\r\n",
      "\u001b[?25h  Created wheel for pyspark: filename=pyspark-3.5.3-py2.py3-none-any.whl size=317840629 sha256=34be5ac2cfb688a92e47de4f79fc893a3948496c74a82995ec955f6cbabc0fc0\r\n",
      "  Stored in directory: /root/.cache/pip/wheels/1b/3a/92/28b93e2fbfdbb07509ca4d6f50c5e407f48dce4ddbda69a4ab\r\n",
      "Successfully built pyspark\r\n",
      "Installing collected packages: pyspark\r\n",
      "Successfully installed pyspark-3.5.3\r\n"
     ]
    }
   ],
   "source": [
    "!pip install pyspark"
   ]
  },
  {
   "cell_type": "code",
   "execution_count": 2,
   "id": "dd4dd230",
   "metadata": {
    "execution": {
     "iopub.execute_input": "2024-10-11T11:20:37.216320Z",
     "iopub.status.busy": "2024-10-11T11:20:37.215857Z",
     "iopub.status.idle": "2024-10-11T11:20:37.315052Z",
     "shell.execute_reply": "2024-10-11T11:20:37.313890Z"
    },
    "papermill": {
     "duration": 0.120091,
     "end_time": "2024-10-11T11:20:37.317703",
     "exception": false,
     "start_time": "2024-10-11T11:20:37.197612",
     "status": "completed"
    },
    "tags": []
   },
   "outputs": [],
   "source": [
    "import time\n",
    "import pyspark\n",
    "import numpy as np\n",
    "from pyspark.sql import SparkSession , Window\n",
    "from pyspark.sql import functions as F\n",
    "from pyspark.sql.types import LongType, DoubleType"
   ]
  },
  {
   "cell_type": "code",
   "execution_count": 3,
   "id": "12078c64",
   "metadata": {
    "execution": {
     "iopub.execute_input": "2024-10-11T11:20:37.354466Z",
     "iopub.status.busy": "2024-10-11T11:20:37.353807Z",
     "iopub.status.idle": "2024-10-11T11:20:43.025677Z",
     "shell.execute_reply": "2024-10-11T11:20:43.024320Z"
    },
    "papermill": {
     "duration": 5.693377,
     "end_time": "2024-10-11T11:20:43.028498",
     "exception": false,
     "start_time": "2024-10-11T11:20:37.335121",
     "status": "completed"
    },
    "tags": []
   },
   "outputs": [
    {
     "name": "stderr",
     "output_type": "stream",
     "text": [
      "Setting default log level to \"WARN\".\n",
      "To adjust logging level use sc.setLogLevel(newLevel). For SparkR, use setLogLevel(newLevel).\n",
      "24/10/11 11:20:40 WARN NativeCodeLoader: Unable to load native-hadoop library for your platform... using builtin-java classes where applicable\n"
     ]
    }
   ],
   "source": [
    "# Create a SparkSession with custom memory settings\n",
    "spark = SparkSession.builder.appName(\"instamart_analysis\") \\\n",
    "    .config(\"spark.driver.memory\",\"25g\") \\\n",
    "    .getOrCreate()\n"
   ]
  },
  {
   "cell_type": "code",
   "execution_count": 4,
   "id": "cdad85e4",
   "metadata": {
    "execution": {
     "iopub.execute_input": "2024-10-11T11:20:43.074642Z",
     "iopub.status.busy": "2024-10-11T11:20:43.073425Z",
     "iopub.status.idle": "2024-10-11T11:20:43.080708Z",
     "shell.execute_reply": "2024-10-11T11:20:43.079367Z"
    },
    "papermill": {
     "duration": 0.031171,
     "end_time": "2024-10-11T11:20:43.083223",
     "exception": false,
     "start_time": "2024-10-11T11:20:43.052052",
     "status": "completed"
    },
    "tags": []
   },
   "outputs": [],
   "source": [
    "def show_time(start):\n",
    "    return time.time() - start"
   ]
  },
  {
   "cell_type": "code",
   "execution_count": 5,
   "id": "4297e091",
   "metadata": {
    "execution": {
     "iopub.execute_input": "2024-10-11T11:20:43.121387Z",
     "iopub.status.busy": "2024-10-11T11:20:43.120399Z",
     "iopub.status.idle": "2024-10-11T11:21:29.827715Z",
     "shell.execute_reply": "2024-10-11T11:21:29.826259Z"
    },
    "papermill": {
     "duration": 46.729775,
     "end_time": "2024-10-11T11:21:29.831746",
     "exception": false,
     "start_time": "2024-10-11T11:20:43.101971",
     "status": "completed"
    },
    "tags": []
   },
   "outputs": [
    {
     "name": "stderr",
     "output_type": "stream",
     "text": [
      "                                                                                \r"
     ]
    }
   ],
   "source": [
    "departments_df = spark.read.options(header=True,inferSchema=True).csv(\"/kaggle/input/instacart-market-basket-analysis/departments.csv\")\n",
    "products_df = spark.read.options(header=True,inferSchema=True).csv(\"/kaggle/input/instacart-market-basket-analysis/products.csv\")\n",
    "prior_product_orders = spark.read.options(header=True,inferSchema=True).csv(\"/kaggle/input/instacart-market-basket-analysis/order_products__prior.csv\").repartition(12)\n",
    "train_product_orders = spark.read.options(header=True,inferSchema=True).csv(\"/kaggle/input/instacart-market-basket-analysis/order_products__train.csv\").repartition(8)\n",
    "orders_df = spark.read.options(header=True,inferSchema=True).csv(\"/kaggle/input/instacart-market-basket-analysis/orders.csv\").repartition(8)\n",
    "aisels_df = spark.read.options(header=True,inferSchema=True).csv(\"/kaggle/input/instacart-market-basket-analysis/aisles.csv\")\n"
   ]
  },
  {
   "cell_type": "code",
   "execution_count": 6,
   "id": "df51b481",
   "metadata": {
    "execution": {
     "iopub.execute_input": "2024-10-11T11:21:29.887726Z",
     "iopub.status.busy": "2024-10-11T11:21:29.887267Z",
     "iopub.status.idle": "2024-10-11T11:21:29.897149Z",
     "shell.execute_reply": "2024-10-11T11:21:29.895467Z"
    },
    "papermill": {
     "duration": 0.039268,
     "end_time": "2024-10-11T11:21:29.899668",
     "exception": false,
     "start_time": "2024-10-11T11:21:29.860400",
     "status": "completed"
    },
    "tags": []
   },
   "outputs": [
    {
     "name": "stdout",
     "output_type": "stream",
     "text": [
      "root\n",
      " |-- order_id: integer (nullable = true)\n",
      " |-- product_id: integer (nullable = true)\n",
      " |-- add_to_cart_order: integer (nullable = true)\n",
      " |-- reordered: integer (nullable = true)\n",
      "\n"
     ]
    }
   ],
   "source": [
    "prior_product_orders.printSchema()"
   ]
  },
  {
   "cell_type": "code",
   "execution_count": 7,
   "id": "bf501647",
   "metadata": {
    "execution": {
     "iopub.execute_input": "2024-10-11T11:21:29.938222Z",
     "iopub.status.busy": "2024-10-11T11:21:29.937672Z",
     "iopub.status.idle": "2024-10-11T11:21:29.945701Z",
     "shell.execute_reply": "2024-10-11T11:21:29.944022Z"
    },
    "papermill": {
     "duration": 0.030998,
     "end_time": "2024-10-11T11:21:29.948713",
     "exception": false,
     "start_time": "2024-10-11T11:21:29.917715",
     "status": "completed"
    },
    "tags": []
   },
   "outputs": [
    {
     "name": "stdout",
     "output_type": "stream",
     "text": [
      "root\n",
      " |-- department_id: integer (nullable = true)\n",
      " |-- department: string (nullable = true)\n",
      "\n"
     ]
    }
   ],
   "source": [
    "departments_df.printSchema()"
   ]
  },
  {
   "cell_type": "code",
   "execution_count": 8,
   "id": "a2c1c5ab",
   "metadata": {
    "execution": {
     "iopub.execute_input": "2024-10-11T11:21:29.987079Z",
     "iopub.status.busy": "2024-10-11T11:21:29.986536Z",
     "iopub.status.idle": "2024-10-11T11:21:29.993786Z",
     "shell.execute_reply": "2024-10-11T11:21:29.992431Z"
    },
    "papermill": {
     "duration": 0.029523,
     "end_time": "2024-10-11T11:21:29.996151",
     "exception": false,
     "start_time": "2024-10-11T11:21:29.966628",
     "status": "completed"
    },
    "tags": []
   },
   "outputs": [
    {
     "name": "stdout",
     "output_type": "stream",
     "text": [
      "root\n",
      " |-- product_id: integer (nullable = true)\n",
      " |-- product_name: string (nullable = true)\n",
      " |-- aisle_id: string (nullable = true)\n",
      " |-- department_id: string (nullable = true)\n",
      "\n"
     ]
    }
   ],
   "source": [
    "products_df.printSchema()"
   ]
  },
  {
   "cell_type": "code",
   "execution_count": 9,
   "id": "69b592ed",
   "metadata": {
    "execution": {
     "iopub.execute_input": "2024-10-11T11:21:30.034286Z",
     "iopub.status.busy": "2024-10-11T11:21:30.033336Z",
     "iopub.status.idle": "2024-10-11T11:21:30.083916Z",
     "shell.execute_reply": "2024-10-11T11:21:30.082550Z"
    },
    "papermill": {
     "duration": 0.072643,
     "end_time": "2024-10-11T11:21:30.086658",
     "exception": false,
     "start_time": "2024-10-11T11:21:30.014015",
     "status": "completed"
    },
    "tags": []
   },
   "outputs": [],
   "source": [
    "train_orders_df = orders_df.filter(orders_df[\"eval_set\"] =='train').drop(\"eval_set\")\n",
    "prior_orders_df = orders_df.filter(orders_df[\"eval_set\"] == 'prior').drop(\"eval_set\")"
   ]
  },
  {
   "cell_type": "code",
   "execution_count": 10,
   "id": "86638aae",
   "metadata": {
    "execution": {
     "iopub.execute_input": "2024-10-11T11:21:30.124236Z",
     "iopub.status.busy": "2024-10-11T11:21:30.123736Z",
     "iopub.status.idle": "2024-10-11T11:21:30.282950Z",
     "shell.execute_reply": "2024-10-11T11:21:30.281530Z"
    },
    "papermill": {
     "duration": 0.181035,
     "end_time": "2024-10-11T11:21:30.285720",
     "exception": false,
     "start_time": "2024-10-11T11:21:30.104685",
     "status": "completed"
    },
    "tags": []
   },
   "outputs": [],
   "source": [
    "# how often user has reorderd\n",
    "df_with_num_of_reord = (\n",
    "    prior_product_orders.select(\"reordered\",\"order_id\").join(\n",
    "        prior_orders_df.select(\"user_id\",\"order_id\"),how=\"left\",on=\"order_id\"\n",
    "    ).select(\"user_id\",\"reordered\") \n",
    "     .groupBy(\"user_id\").agg(\n",
    "        F.count(F.col(\"reordered\")).alias(\"frequency of reorder\")\n",
    "    )\n",
    ")"
   ]
  },
  {
   "cell_type": "code",
   "execution_count": 11,
   "id": "f084e172",
   "metadata": {
    "execution": {
     "iopub.execute_input": "2024-10-11T11:21:30.325097Z",
     "iopub.status.busy": "2024-10-11T11:21:30.324683Z",
     "iopub.status.idle": "2024-10-11T11:21:30.476140Z",
     "shell.execute_reply": "2024-10-11T11:21:30.475239Z"
    },
    "papermill": {
     "duration": 0.174895,
     "end_time": "2024-10-11T11:21:30.478615",
     "exception": false,
     "start_time": "2024-10-11T11:21:30.303720",
     "status": "completed"
    },
    "tags": []
   },
   "outputs": [],
   "source": [
    "# time since privious order\n",
    "\n",
    "df_with_time_since_prev_ord = (\n",
    "    prior_orders_df.select(\"user_id\",\"days_since_prior_order\",\"order_hour_of_day\",\"order_number\",\"order_id\") \n",
    "                .withColumn(\"privious_order_hour\",\n",
    "                            F.lag(\"order_hour_of_day\",1) \n",
    "                            .over(Window.partitionBy(\"user_id\").orderBy(\"order_number\"))) \n",
    "                .withColumn(\"time_since_Last_order\",\n",
    "                            F.col(\"days_since_prior_order\") * 24 + \n",
    "                            F.col(\"order_hour_of_day\") - \n",
    "                            F.col(\"privious_order_hour\") \n",
    "                           ) \n",
    "                .select(\"order_id\",\"time_since_last_order\")\n",
    ")\n"
   ]
  },
  {
   "cell_type": "code",
   "execution_count": 12,
   "id": "d526ade8",
   "metadata": {
    "execution": {
     "iopub.execute_input": "2024-10-11T11:21:30.516055Z",
     "iopub.status.busy": "2024-10-11T11:21:30.515627Z",
     "iopub.status.idle": "2024-10-11T11:21:30.582629Z",
     "shell.execute_reply": "2024-10-11T11:21:30.581289Z"
    },
    "papermill": {
     "duration": 0.089152,
     "end_time": "2024-10-11T11:21:30.585431",
     "exception": false,
     "start_time": "2024-10-11T11:21:30.496279",
     "status": "completed"
    },
    "tags": []
   },
   "outputs": [],
   "source": [
    "#time of the day user visits\n",
    "\n",
    "df_with_time_of_day_usr_visits = (\n",
    "    prior_orders_df.select(\"user_id\" , \"order_hour_of_day\",\"order_id\") \n",
    "                .groupBy(\"user_id\",\"order_hour_of_day\") \n",
    "                .agg(F.count(\"order_id\").alias(\"frequency\")) \n",
    "                .groupBy(\"user_id\") \n",
    "                .agg(F.max(\"frequency\").alias(\"maximum_frquency\"))\n",
    ")"
   ]
  },
  {
   "cell_type": "code",
   "execution_count": 13,
   "id": "bb6a1ced",
   "metadata": {
    "execution": {
     "iopub.execute_input": "2024-10-11T11:21:30.624043Z",
     "iopub.status.busy": "2024-10-11T11:21:30.623612Z",
     "iopub.status.idle": "2024-10-11T11:21:30.989970Z",
     "shell.execute_reply": "2024-10-11T11:21:30.988838Z"
    },
    "papermill": {
     "duration": 0.389343,
     "end_time": "2024-10-11T11:21:30.993308",
     "exception": false,
     "start_time": "2024-10-11T11:21:30.603965",
     "status": "completed"
    },
    "scrolled": true,
    "tags": []
   },
   "outputs": [],
   "source": [
    "# does the user have ordered asian , gluten free, or organic item \n",
    "\n",
    "df_with_does_usr_asian_gluten_orga_items_ord = (\n",
    "    prior_product_orders.select(\"order_id\",\"product_id\") \n",
    "            .join(products_df.select(\"product_id\",\"product_name\"), on=\"product_id\", how='left') \n",
    "            .join(prior_orders_df.select(\"user_id\",\"order_id\"), on=\"order_id\", how='left') \n",
    "            .groupBy(\"user_id\", \"order_id\") \n",
    "            .agg(F.collect_list(\"product_name\").alias(\"list_of_products\")) \n",
    "            .withColumn(\"normalized_list\", F.expr(\"transform(list_of_products, x -> lower(x))\")) \n",
    "            .withColumn(\"contains_or_not\", \n",
    "                F.expr(\"exists(normalized_list,x -> x like '%organic%')\")\n",
    "              | F.expr(\"exists(normalized_list, x -> x like '%asian%')\")\n",
    "              | F.expr(\"exists(normalized_list, x-> x like '%gluten free%')\")\n",
    "            ) \n",
    "            .select(\"order_id\",\"contains_or_not\")\n",
    ")"
   ]
  },
  {
   "cell_type": "code",
   "execution_count": 14,
   "id": "f937d74b",
   "metadata": {
    "execution": {
     "iopub.execute_input": "2024-10-11T11:21:31.035052Z",
     "iopub.status.busy": "2024-10-11T11:21:31.034503Z",
     "iopub.status.idle": "2024-10-11T11:21:31.152797Z",
     "shell.execute_reply": "2024-10-11T11:21:31.151379Z"
    },
    "papermill": {
     "duration": 0.141309,
     "end_time": "2024-10-11T11:21:31.156416",
     "exception": false,
     "start_time": "2024-10-11T11:21:31.015107",
     "status": "completed"
    },
    "tags": []
   },
   "outputs": [],
   "source": [
    "# feature based on order size \n",
    "\n",
    "df_with_fets_of_ord_size = (\n",
    "    prior_product_orders.select(\"product_id\",\"order_id\") \n",
    "                    .join(prior_orders_df.select(\"user_id\",\"order_id\") , on=\"order_id\", how=\"left\") \n",
    "                    .groupBy(\"user_id\",'order_id') \n",
    "                    .agg(\n",
    "                            F.count(F.col(\"product_id\")).alias(\"count_of_product\")\n",
    "                        ) \n",
    "                    .groupBy(\"user_id\") \n",
    "                    .agg(\n",
    "                            F.max(F.col(\"count_of_product\")).alias(\"max_count_of_products\"),\n",
    "                            F.min(F.col(\"count_of_product\")).alias(\"min_count_of_products\"),\n",
    "                            F.mean(F.col(\"count_of_product\")).alias(\"mean_count_of_products\")\n",
    "                        ) \n",
    ")"
   ]
  },
  {
   "cell_type": "code",
   "execution_count": 15,
   "id": "6a27606e",
   "metadata": {
    "execution": {
     "iopub.execute_input": "2024-10-11T11:21:31.214985Z",
     "iopub.status.busy": "2024-10-11T11:21:31.214395Z",
     "iopub.status.idle": "2024-10-11T11:21:31.333150Z",
     "shell.execute_reply": "2024-10-11T11:21:31.331931Z"
    },
    "papermill": {
     "duration": 0.15268,
     "end_time": "2024-10-11T11:21:31.336663",
     "exception": false,
     "start_time": "2024-10-11T11:21:31.183983",
     "status": "completed"
    },
    "tags": []
   },
   "outputs": [],
   "source": [
    "# How many of the user’s orders contained no previously purchased items\n",
    "\n",
    "df_with_freq_ord_that_hasnt_prev_purch_items = (\n",
    "    prior_product_orders.select(\"order_id\",\"reordered\") \n",
    "                    .join(prior_orders_df.select(\"order_id\",\"user_id\") , on = 'order_id' , how = 'left') \n",
    "                    .groupBy(\"user_Id\",\"order_id\") \n",
    "                    .agg(\n",
    "                            F.collect_list(F.col(\"reordered\")).alias(\"reordered_array\")\n",
    "                        ) \n",
    "                    .withColumn(\"doesnt_contains_reordered\" ,\n",
    "                            F.when(F.array_contains(\"reordered_array\",1),0).otherwise(1)\n",
    "                        ) \n",
    "                    .select(\"order_id\",\"doesnt_contains_reordered\")\n",
    ")"
   ]
  },
  {
   "cell_type": "code",
   "execution_count": 16,
   "id": "a1e55487",
   "metadata": {
    "execution": {
     "iopub.execute_input": "2024-10-11T11:21:31.397337Z",
     "iopub.status.busy": "2024-10-11T11:21:31.396301Z",
     "iopub.status.idle": "2024-10-11T11:21:31.436986Z",
     "shell.execute_reply": "2024-10-11T11:21:31.435900Z"
    },
    "papermill": {
     "duration": 0.074662,
     "end_time": "2024-10-11T11:21:31.440019",
     "exception": false,
     "start_time": "2024-10-11T11:21:31.365357",
     "status": "completed"
    },
    "tags": []
   },
   "outputs": [],
   "source": [
    "# how often the item has been purchaced \n",
    "\n",
    "df_with_freq_purch= (\n",
    "    prior_product_orders.select(\"product_id\",\"order_id\") \n",
    "                     .groupBy(\"product_id\") \n",
    "                     .agg(\n",
    "                             F.count(F.col(\"order_id\")).alias(\"product_count\")\n",
    "                        ) \n",
    ")"
   ]
  },
  {
   "cell_type": "code",
   "execution_count": 17,
   "id": "62101206",
   "metadata": {
    "execution": {
     "iopub.execute_input": "2024-10-11T11:21:31.498779Z",
     "iopub.status.busy": "2024-10-11T11:21:31.498214Z",
     "iopub.status.idle": "2024-10-11T11:21:31.539849Z",
     "shell.execute_reply": "2024-10-11T11:21:31.538632Z"
    },
    "papermill": {
     "duration": 0.075308,
     "end_time": "2024-10-11T11:21:31.543008",
     "exception": false,
     "start_time": "2024-10-11T11:21:31.467700",
     "status": "completed"
    },
    "tags": []
   },
   "outputs": [],
   "source": [
    "# position of product \n",
    "\n",
    "df_with_avg_position_of_prod = (\n",
    "    prior_product_orders.select(\"product_id\",\"add_to_cart_order\") \n",
    "                    .groupBy(\"product_id\") \n",
    "                    .agg(\n",
    "                            F.mean(F.col(\"add_to_cart_order\")).alias(\"product_mean_of_position\")\n",
    "                        ) \n",
    ")"
   ]
  },
  {
   "cell_type": "code",
   "execution_count": 18,
   "id": "9fa11c72",
   "metadata": {
    "execution": {
     "iopub.execute_input": "2024-10-11T11:21:31.596692Z",
     "iopub.status.busy": "2024-10-11T11:21:31.596120Z",
     "iopub.status.idle": "2024-10-11T11:21:31.804602Z",
     "shell.execute_reply": "2024-10-11T11:21:31.803470Z"
    },
    "papermill": {
     "duration": 0.237247,
     "end_time": "2024-10-11T11:21:31.808258",
     "exception": false,
     "start_time": "2024-10-11T11:21:31.571011",
     "status": "completed"
    },
    "tags": []
   },
   "outputs": [],
   "source": [
    "# How many users buy it as \"one shot\" item\n",
    "\n",
    "df_with_freq_one_shot_ord_prods = (\n",
    "    prior_product_orders.select(\"order_id\",\"product_id\") \n",
    "                    .groupBy(\"order_id\") \n",
    "                    .agg(F.collect_list(\"product_id\").alias(\"list_of_products\")) \n",
    "                    .withColumn(\"is_one_shot_order\",\n",
    "                                   F.when(F.size(F.col(\"list_of_products\")) == 1,1).otherwise(0)\n",
    "                               ) \n",
    "                    .withColumn(\"product_id\",F.explode(F.col(\"list_of_products\"))) \n",
    "                    .join(prior_orders_df.select(\"user_id\",\"order_id\"),on=\"order_id\",how='left') \n",
    "                    .groupBy(\"product_id\",\"user_id\") \n",
    "                    .agg(F.collect_list(F.col(\"is_one_shot_order\")).alias(\"is_one_shot_order_list\")) \n",
    "                    .withColumn(\"has_user_purchased_one_shot\",F.when(F.array_contains(\"is_one_shot_order_list\",1),1).otherwise(0)) \n",
    "                    .groupBy(\"product_id\") \n",
    "                    .agg(\n",
    "                            F.sum(F.col(\"has_user_purchased_one_shot\")).alias(\"number_of_user_purchased_item\")\n",
    "                        ) \n",
    ")"
   ]
  },
  {
   "cell_type": "code",
   "execution_count": 19,
   "id": "f1bc595d",
   "metadata": {
    "execution": {
     "iopub.execute_input": "2024-10-11T11:21:31.852591Z",
     "iopub.status.busy": "2024-10-11T11:21:31.852027Z",
     "iopub.status.idle": "2024-10-11T11:21:32.082060Z",
     "shell.execute_reply": "2024-10-11T11:21:32.080552Z"
    },
    "papermill": {
     "duration": 0.253312,
     "end_time": "2024-10-11T11:21:32.085110",
     "exception": false,
     "start_time": "2024-10-11T11:21:31.831798",
     "status": "completed"
    },
    "tags": []
   },
   "outputs": [],
   "source": [
    "# Stats on the number of items that co-occur with this item\n",
    "\n",
    "# 1. number of time that a item has co occured.\n",
    "\n",
    "# Perform a self-join on prior_product_orders\n",
    "df_with_freq_co_ocrd = (\n",
    "    prior_product_orders\n",
    "    .select(\"product_id\", \"order_id\")\n",
    "    .alias(\"df1\")\n",
    "    .join(\n",
    "        prior_product_orders.select(\"product_id\", \"order_id\")\n",
    "        .withColumnRenamed(\"product_id\", \"product_id_1\")\n",
    "        .alias(\"df2\"),\n",
    "        (F.col(\"df1.order_id\") == F.col(\"df2.order_id\")) & (F.col(\"df1.product_id\") != F.col(\"df2.product_id_1\")),\n",
    "        \"left\"\n",
    "    )\n",
    "    .groupBy(\"df1.product_id\")\n",
    "    .agg(F.count(F.col(\"df2.product_id_1\")).alias(\"number_of_product_co_occurred\"))\n",
    ")\n",
    "\n",
    "# 2 average number of items that is co ocuured with this item in single order\n",
    "\n",
    "df_with_avg_num_item_co_ocrd_in_ord = (\n",
    "                prior_product_orders.select(\"product_id\",\"order_id\").alias(\"ppo1\") \n",
    "                .join(\n",
    "                    prior_product_orders.select(\"product_id\",\"order_id\")\n",
    "                    .alias(\"ppo2\"),\n",
    "                    (F.col(\"ppo1.order_id\") == F.col(\"ppo2.order_id\")) & \n",
    "                    (F.col(\"ppo1.product_id\") != F.col(\"ppo2.product_id\")),\n",
    "                    how='left'\n",
    "                ) \n",
    "                .groupBy(\"ppo1.product_id\",\"ppo1.order_id\")\n",
    "                .agg(F.count(F.col(\"ppo2.product_id\")).alias(\"count_of_co_ocuured_product_per_order\"))\n",
    "                .groupBy(\"ppo1.product_id\")\n",
    "                .agg(\n",
    "                    F.mean(F.col(\"count_of_co_ocuured_product_per_order\")).alias(\"mean_of_co_ocuured_product_per_order\"),\n",
    "                    F.min(F.col(\"count_of_co_ocuured_product_per_order\")).alias(\"min_of_co_ocuured_product_per_order\"),\n",
    "                    F.max(F.col(\"count_of_co_ocuured_product_per_order\")).alias(\"max_of_co_ocuured_product_per_order\"),\n",
    "\n",
    "                )\n",
    ")\n"
   ]
  },
  {
   "cell_type": "code",
   "execution_count": 20,
   "id": "dca88bb4",
   "metadata": {
    "execution": {
     "iopub.execute_input": "2024-10-11T11:21:32.123437Z",
     "iopub.status.busy": "2024-10-11T11:21:32.122997Z",
     "iopub.status.idle": "2024-10-11T11:21:32.368423Z",
     "shell.execute_reply": "2024-10-11T11:21:32.366984Z"
    },
    "papermill": {
     "duration": 0.26862,
     "end_time": "2024-10-11T11:21:32.371876",
     "exception": false,
     "start_time": "2024-10-11T11:21:32.103256",
     "status": "completed"
    },
    "tags": []
   },
   "outputs": [],
   "source": [
    "# Stats on the order streak\n",
    "\n",
    "# 1. let's add the flag whether streak is continued or not\n",
    "\n",
    "df_with_flag= (\n",
    "\n",
    "    prior_product_orders.select(\"product_id\",\"order_id\")\n",
    "                        .join(\n",
    "                                prior_orders_df.select(\"user_id\",\"order_number\",\"order_id\"),\n",
    "                                how ='left',\n",
    "                                on = 'order_id' \n",
    "                            )\n",
    "                        .withColumn(\"next_order_number\",\n",
    "                            F.lead(F.col(\"order_number\"),1).over(Window.partitionBy(\"user_id\",\"product_id\").orderBy(\"order_number\"))\n",
    "                        )\n",
    "                        .withColumn(\"is_streak_continued_flag\",\n",
    "                               F.when(F.col(\"next_order_number\") - F.col(\"order_number\") == 1,1)\n",
    "                                    .otherwise(0)\n",
    "                            )\n",
    ")\n",
    "# 2. let's assign an unique id to each streak of a perticular user and product.\n",
    "\n",
    "w1 = Window.partitionBy(\"user_id\",\"product_id\").orderBy(\"order_number\")\n",
    "w2 = Window.partitionBy(\"user_id\",\"product_id\",\"is_streak_continued_flag\").orderBy(\"order_number\")\n",
    "\n",
    "# by using the above window we can create unique id for streak named grp then can find streak leangth.\n",
    "df_with_streak_length = (\n",
    "    df_with_flag.withColumn(\"grp\",F.row_number().over(w1) - F.row_number().over(w2))\n",
    "                .groupBy(\"user_id\",\"product_id\",\"grp\")\n",
    "                .agg(\n",
    "                    F.count(\"order_number\").alias(\"length_of_streaks\")\n",
    "                )\n",
    ")\n",
    "\n",
    "# finally , summarize it over each prodcut rather than per user per product.\n",
    "df_with_stats_of_streaks = (\n",
    "    df_with_streak_length.select(\"product_id\",\"length_of_streaks\",\"grp\")\n",
    "                         .groupBy(\"product_id\")\n",
    "                         .agg(\n",
    "                             F.count('grp').alias(\"Total_streak_of_this_product\"),\n",
    "                             F.mean(\"length_of_streaks\").alias(\"mean_of_streaks_of_this_product\"),\n",
    "                             F.min(\"length_of_streaks\").alias(\"max_of_streaks_of_this_product\"),\n",
    "                             F.max(\"length_of_streaks\").alias(\"min_of_streaks_of_this_product\")\n",
    "                         \n",
    "                         )\n",
    ")\n"
   ]
  },
  {
   "cell_type": "code",
   "execution_count": 21,
   "id": "ffde7bd9",
   "metadata": {
    "execution": {
     "iopub.execute_input": "2024-10-11T11:21:32.414184Z",
     "iopub.status.busy": "2024-10-11T11:21:32.413762Z",
     "iopub.status.idle": "2024-10-11T11:21:32.498820Z",
     "shell.execute_reply": "2024-10-11T11:21:32.497665Z"
    },
    "papermill": {
     "duration": 0.106929,
     "end_time": "2024-10-11T11:21:32.501569",
     "exception": false,
     "start_time": "2024-10-11T11:21:32.394640",
     "status": "completed"
    },
    "tags": []
   },
   "outputs": [],
   "source": [
    "# Probability of being reordered within N orders\n",
    "\n",
    "# we have already counted the lenght of the streaks so if it is >= 5 then it will be added in probability.\n",
    "\n",
    "df_with_prob_greater_5 = (\n",
    "    df_with_streak_length.withColumn(\"is_streak_length_greater_than_5\",\n",
    "                                        F.when(F.col(\"length_of_streaks\") >= 5,1).otherwise(0) \n",
    "                                    )\n",
    "                         .groupBy(\"product_id\")\n",
    "                         .agg(\n",
    "                             F.count(\"length_of_streaks\").alias(\"total_streaks\"),\n",
    "                             F.sum(\"is_streak_length_greater_than_5\").alias(\"total_streaks_greater_than_5\")\n",
    "                         )\n",
    "                         .withColumn(\"prob_of_reordered_5\",\n",
    "                             ( F.col(\"total_streaks_greater_than_5\") / F.col(\"total_streaks\"))\n",
    "                         )\n",
    "                         .select(\"product_id\",\"prob_of_reordered_5\")\n",
    ")"
   ]
  },
  {
   "cell_type": "code",
   "execution_count": 22,
   "id": "e8abcf92",
   "metadata": {
    "execution": {
     "iopub.execute_input": "2024-10-11T11:21:32.539219Z",
     "iopub.status.busy": "2024-10-11T11:21:32.538300Z",
     "iopub.status.idle": "2024-10-11T11:21:32.614336Z",
     "shell.execute_reply": "2024-10-11T11:21:32.613339Z"
    },
    "papermill": {
     "duration": 0.097637,
     "end_time": "2024-10-11T11:21:32.616896",
     "exception": false,
     "start_time": "2024-10-11T11:21:32.519259",
     "status": "completed"
    },
    "tags": []
   },
   "outputs": [],
   "source": [
    "# we have already counted the lenght of the streaks so if it is >= 2 then it will be added in probability.\n",
    "\n",
    "df_with_prob_greater_2 = (\n",
    "    df_with_streak_length.withColumn(\"is_streak_length_greater_than_2\",\n",
    "                                        F.when(F.col(\"length_of_streaks\") >= 2,1).otherwise(0) \n",
    "                                    )\n",
    "                         .groupBy(\"product_id\")\n",
    "                         .agg(\n",
    "                             F.count(\"length_of_streaks\").alias(\"total_streaks\"),\n",
    "                             F.sum(\"is_streak_length_greater_than_2\").alias(\"total_streaks_greater_than_2\")\n",
    "                         )\n",
    "                         .withColumn(\"prob_of_reordered_2\",\n",
    "                             ( F.col(\"total_streaks_greater_than_2\") / F.col(\"total_streaks\"))\n",
    "                         )\n",
    "                         .select(\"product_id\",\"prob_of_reordered_2\")\n",
    ")"
   ]
  },
  {
   "cell_type": "code",
   "execution_count": 23,
   "id": "f37d8df5",
   "metadata": {
    "execution": {
     "iopub.execute_input": "2024-10-11T11:21:32.656440Z",
     "iopub.status.busy": "2024-10-11T11:21:32.655383Z",
     "iopub.status.idle": "2024-10-11T11:21:32.726957Z",
     "shell.execute_reply": "2024-10-11T11:21:32.725822Z"
    },
    "papermill": {
     "duration": 0.094477,
     "end_time": "2024-10-11T11:21:32.729414",
     "exception": false,
     "start_time": "2024-10-11T11:21:32.634937",
     "status": "completed"
    },
    "tags": []
   },
   "outputs": [],
   "source": [
    "# we have already counted the lenght of the streaks so if it is >= 3 then it will be added in probability.\n",
    "\n",
    "df_with_prob_greater_3 = (\n",
    "    df_with_streak_length.withColumn(\"is_streak_length_greater_than_3\",\n",
    "                                        F.when(F.col(\"length_of_streaks\") >= 3,1).otherwise(0) \n",
    "                                    )\n",
    "                         .groupBy(\"product_id\")\n",
    "                         .agg(\n",
    "                             F.count(\"length_of_streaks\").alias(\"total_streaks\"),\n",
    "                             F.sum(\"is_streak_length_greater_than_3\").alias(\"total_streaks_greater_than_3\")\n",
    "                         )\n",
    "                         .withColumn(\"prob_of_reordered_3\",\n",
    "                             ( F.col(\"total_streaks_greater_than_3\") / F.col(\"total_streaks\"))\n",
    "                         )\n",
    "                         .select(\"product_id\",\"prob_of_reordered_3\")\n",
    ")\n",
    "\n"
   ]
  },
  {
   "cell_type": "code",
   "execution_count": 24,
   "id": "9165d008",
   "metadata": {
    "execution": {
     "iopub.execute_input": "2024-10-11T11:21:32.768519Z",
     "iopub.status.busy": "2024-10-11T11:21:32.767362Z",
     "iopub.status.idle": "2024-10-11T11:21:40.019819Z",
     "shell.execute_reply": "2024-10-11T11:21:40.018862Z"
    },
    "papermill": {
     "duration": 7.27468,
     "end_time": "2024-10-11T11:21:40.022744",
     "exception": false,
     "start_time": "2024-10-11T11:21:32.748064",
     "status": "completed"
    },
    "tags": []
   },
   "outputs": [
    {
     "name": "stderr",
     "output_type": "stream",
     "text": [
      "                                                                                \r"
     ]
    }
   ],
   "source": [
    "# Distribution of the day of week it is ordered\n",
    "\n",
    "pivoted_prior_orders_df = (\n",
    "    prior_orders_df.select(\"order_id\",\"order_dow\")\n",
    "                    .groupBy(\"order_id\")\n",
    "                    .pivot(\"order_dow\")\n",
    "                    .agg(F.lit(1)).na.fill(0)\n",
    ")\n",
    "            \n",
    "df_with_count_of_dow_p_prod = (\n",
    "    prior_product_orders.select(\"order_id\",\"product_id\")\n",
    "                            .join(\n",
    "                                pivoted_prior_orders_df , on = \"order_id\",how='left'\n",
    "                            )\n",
    "                            .groupBy(\"product_id\")\n",
    "                            .agg(\n",
    "                                F.sum(\"0\").alias(\"distrib_count_of_dow_0_p_prod\"),\n",
    "                                F.sum(\"1\").alias(\"distrib_count_of_dow_1_p_prod\"),\n",
    "                                F.sum(\"2\").alias(\"distrib_count_of_dow_2_p_prod\"),\n",
    "                                F.sum(\"3\").alias(\"distrib_count_of_dow_3_p_prod\"),\n",
    "                                F.sum(\"4\").alias(\"distrib_count_of_dow_4_p_prod\"),\n",
    "                                F.sum(\"5\").alias(\"distrib_count_of_dow_5_p_prod\"),\n",
    "                                F.sum(\"6\").alias(\"distrib_count_of_dow_6_p_prod\")\n",
    "                            )\n",
    "\n",
    ")\n"
   ]
  },
  {
   "cell_type": "code",
   "execution_count": 25,
   "id": "1f46e7a0",
   "metadata": {
    "execution": {
     "iopub.execute_input": "2024-10-11T11:21:40.060671Z",
     "iopub.status.busy": "2024-10-11T11:21:40.060217Z",
     "iopub.status.idle": "2024-10-11T11:21:48.995238Z",
     "shell.execute_reply": "2024-10-11T11:21:48.993835Z"
    },
    "papermill": {
     "duration": 8.957896,
     "end_time": "2024-10-11T11:21:48.998893",
     "exception": false,
     "start_time": "2024-10-11T11:21:40.040997",
     "status": "completed"
    },
    "tags": []
   },
   "outputs": [
    {
     "name": "stderr",
     "output_type": "stream",
     "text": [
      "                                                                                \r"
     ]
    }
   ],
   "source": [
    "#  Probability it is reordered after the first order\n",
    "total_orders = prior_orders_df.select(\"order_id\").distinct().count()\n",
    "\n",
    "df_with_prob_reord = (\n",
    "    prior_orders_df.select(\"order_id\",\"user_id\")\n",
    "                    .join(prior_product_orders.select(\"product_id\",\"order_id\"),on=\"order_id\",how='left')\n",
    "                    .groupBy(\"product_id\",\"user_id\")\n",
    "                    .agg(\n",
    "                        F.count(\"order_id\").alias(\"order_count\")\n",
    "                    )\n",
    "                    .groupBy(\"product_id\")\n",
    "                    .agg(\n",
    "                        ( \n",
    "                            (F.sum(\"order_count\") / total_orders).alias(\"prob_of_being_reordered\") \n",
    "                        )\n",
    "                    )\n",
    ")"
   ]
  },
  {
   "cell_type": "code",
   "execution_count": 26,
   "id": "8cfc71e9",
   "metadata": {
    "execution": {
     "iopub.execute_input": "2024-10-11T11:21:49.062735Z",
     "iopub.status.busy": "2024-10-11T11:21:49.062212Z",
     "iopub.status.idle": "2024-10-11T11:21:49.128401Z",
     "shell.execute_reply": "2024-10-11T11:21:49.127155Z"
    },
    "papermill": {
     "duration": 0.10246,
     "end_time": "2024-10-11T11:21:49.132255",
     "exception": false,
     "start_time": "2024-10-11T11:21:49.029795",
     "status": "completed"
    },
    "tags": []
   },
   "outputs": [],
   "source": [
    "# Number of orders in which the user purchases the item\n",
    "\n",
    "df_with_num_of_order_p_product = (\n",
    "    \n",
    "    prior_product_orders.select(\"order_id\",\"product_id\")\n",
    "                        .join(\n",
    "                            prior_orders_df.select(\"order_id\",\"user_id\")\n",
    "                            , how = 'left' , on = 'order_id'\n",
    "                        )\n",
    "                        .groupBy(\"user_id\",\"product_id\")\n",
    "                        .agg(\n",
    "                            F.count(\"order_id\").alias(\"num_of_ord_purch_p_prod\")\n",
    "                        )\n",
    ")"
   ]
  },
  {
   "cell_type": "code",
   "execution_count": 27,
   "id": "8fea7cc8",
   "metadata": {
    "execution": {
     "iopub.execute_input": "2024-10-11T11:21:49.192075Z",
     "iopub.status.busy": "2024-10-11T11:21:49.190893Z",
     "iopub.status.idle": "2024-10-11T11:21:49.198571Z",
     "shell.execute_reply": "2024-10-11T11:21:49.197421Z"
    },
    "papermill": {
     "duration": 0.040366,
     "end_time": "2024-10-11T11:21:49.201125",
     "exception": false,
     "start_time": "2024-10-11T11:21:49.160759",
     "status": "completed"
    },
    "tags": []
   },
   "outputs": [],
   "source": [
    "# # Days since the user last purchased the item\n",
    "\n",
    "# w1 = Window.partitionBy(\"user_id\",\"product_id\").orderBy(\"order_number\")\n",
    "# df_with_next_order_p_prod = (\n",
    "#     prior_product_orders.select(\"product_id\",\"order_id\")\n",
    "#                         .join(\n",
    "#                             prior_orders_df.select(\"user_id\",\"order_id\",\"order_number\",\"days_since_prior_order\")\n",
    "#                                             .groupBy(\"user_id\")\n",
    "#                                             .agg(\n",
    "#                                                 F.collect_list(\"days_since_prior_order\").alias(\"list_of_days_since_prior_ord\"),\n",
    "#                                                 F.collect_list(\"order_number\").alias(\"list_of_order_number\")\n",
    "#                                             )\n",
    "#                             ,\n",
    "#                             how='left',on='order_id'\n",
    "#                         )\n",
    "#                         .withColumn(\"pre_order_number\",\n",
    "#                             F.lag(F.col(\"order_number\")).over(w1)\n",
    "                                \n",
    "#                         ).na.fill({'pre_order_number':0})\n",
    "#                         .sort(\"user_id\",\"product_id\",\"order_number\")\n",
    "#                         .show()\n",
    "                        \n",
    "# )\n",
    "\n",
    "# w2 = Window.partitionBy(\"user_id\").orderBy(\"order_number\") \n",
    "#                         .rowsBetween(\n",
    "#                             F.when(F.col(\"pre_order_number\") == 0,Window.unboundedPreceding).otherwise(F.col(\"pre_order_number\")) ,\n",
    "#                             F.col(\"order_number\")\n",
    "#                         )\n",
    "\n",
    "# df_with_days_since_last_ord_p_prod = (\n",
    "#     df_with_next_order_p_prod.join(\n",
    "#                                 prior_orders_df.select(\"user_id\",\"days_since_prior_orders\"),\n",
    "#                                 how='left',on='user_id'\n",
    "#                             ).sort(\"user_id\",\"order\")\n",
    "#                             .groupBy(\"user_id\")\n",
    "#                             .withColum(\"sum_day_since_last_order\",\n",
    "#                                 F.sum(\"days_since_prior_order\").over(w2)\n",
    "#                             )\n",
    "# )"
   ]
  },
  {
   "cell_type": "code",
   "execution_count": 28,
   "id": "95f71722",
   "metadata": {
    "execution": {
     "iopub.execute_input": "2024-10-11T11:21:49.239721Z",
     "iopub.status.busy": "2024-10-11T11:21:49.239290Z",
     "iopub.status.idle": "2024-10-11T11:21:49.294414Z",
     "shell.execute_reply": "2024-10-11T11:21:49.293216Z"
    },
    "papermill": {
     "duration": 0.078413,
     "end_time": "2024-10-11T11:21:49.298007",
     "exception": false,
     "start_time": "2024-10-11T11:21:49.219594",
     "status": "completed"
    },
    "tags": []
   },
   "outputs": [],
   "source": [
    "# Position in the cart\n",
    "df_with_position_cart_p_usr_p_prod = (\n",
    "    prior_product_orders.select(\"product_id\",\"add_to_cart_order\",\"order_id\") \n",
    "                    .join(\n",
    "                        prior_orders_df.select(\"user_id\",\"order_id\"),\n",
    "                        how = 'left' , on = 'order_id'\n",
    "                    )\n",
    "                    .groupBy(\"user_id\",\"product_id\") \n",
    "                    .agg(\n",
    "                            F.mean(F.col(\"add_to_cart_order\")).alias(\"prod_mean_of_position_p_user\")\n",
    "                        )\n",
    ")"
   ]
  },
  {
   "cell_type": "code",
   "execution_count": 29,
   "id": "14ee9303",
   "metadata": {
    "execution": {
     "iopub.execute_input": "2024-10-11T11:21:49.342763Z",
     "iopub.status.busy": "2024-10-11T11:21:49.342182Z",
     "iopub.status.idle": "2024-10-11T11:21:49.445424Z",
     "shell.execute_reply": "2024-10-11T11:21:49.444301Z"
    },
    "papermill": {
     "duration": 0.125874,
     "end_time": "2024-10-11T11:21:49.448201",
     "exception": false,
     "start_time": "2024-10-11T11:21:49.322327",
     "status": "completed"
    },
    "tags": []
   },
   "outputs": [],
   "source": [
    "# Co-occurrence statistics\n",
    "\n",
    "df_with_co_ocrd_stats_p_user_p_prod = (\n",
    "    prior_product_orders\n",
    "    .select(\"product_id\", \"order_id\")\n",
    "    .alias(\"df1\")\n",
    "    .join(prior_orders_df.select(\"user_id\",\"order_id\"),\n",
    "         on = 'order_id',how='left'\n",
    "         )\n",
    "    .join(\n",
    "        prior_product_orders.select(\"product_id\", \"order_id\")\n",
    "        .withColumnRenamed(\"product_id\", \"product_id_1\")\n",
    "        .alias(\"df2\"),\n",
    "        (F.col(\"df1.order_id\") == F.col(\"df2.order_id\")) & (F.col(\"df1.product_id\") != F.col(\"df2.product_id_1\")),\n",
    "        \"left\"\n",
    "    )\n",
    "    .groupBy(\"user_id\",\"df1.product_id\")\n",
    "    .agg(\n",
    "        F.count(F.col(\"df2.product_id_1\")).alias(\"num_of_prod_co_ocrd_p_usr_p_prod\"),\n",
    "    )\n",
    ")\n"
   ]
  },
  {
   "cell_type": "code",
   "execution_count": 30,
   "id": "72fd1598",
   "metadata": {
    "execution": {
     "iopub.execute_input": "2024-10-11T11:21:49.487123Z",
     "iopub.status.busy": "2024-10-11T11:21:49.486714Z",
     "iopub.status.idle": "2024-10-11T11:21:49.540931Z",
     "shell.execute_reply": "2024-10-11T11:21:49.539855Z"
    },
    "papermill": {
     "duration": 0.076647,
     "end_time": "2024-10-11T11:21:49.543486",
     "exception": false,
     "start_time": "2024-10-11T11:21:49.466839",
     "status": "completed"
    },
    "tags": []
   },
   "outputs": [],
   "source": [
    "#Counts by day of wee\n",
    "\n",
    "df_with_count_of_dow = (\n",
    "        prior_orders_df.select(\"order_id\",\"order_dow\")\n",
    "                        .groupBy(\"order_dow\")\n",
    "                        .agg(\n",
    "                                F.count(\"order_id\").alias(\"total_ord_count_p_dow\")\n",
    "                            )\n",
    ")\n",
    "\n",
    "#Counts by hour\n",
    "\n",
    "df_with_count_of_ohod = (\n",
    "        prior_orders_df.select(\"order_id\",\"order_hour_of_day\")\n",
    "                        .groupBy(\"order_hour_of_day\")\n",
    "                        .agg(\n",
    "                                F.count(\"order_id\").alias(\"total_ord_count_p_ohod\")\n",
    "                            )\n",
    ")"
   ]
  },
  {
   "cell_type": "code",
   "execution_count": 31,
   "id": "172ac571",
   "metadata": {
    "execution": {
     "iopub.execute_input": "2024-10-11T11:21:49.582091Z",
     "iopub.status.busy": "2024-10-11T11:21:49.581674Z",
     "iopub.status.idle": "2024-10-11T11:21:49.720672Z",
     "shell.execute_reply": "2024-10-11T11:21:49.719067Z"
    },
    "papermill": {
     "duration": 0.162746,
     "end_time": "2024-10-11T11:21:49.724777",
     "exception": false,
     "start_time": "2024-10-11T11:21:49.562031",
     "status": "completed"
    },
    "tags": []
   },
   "outputs": [
    {
     "name": "stdout",
     "output_type": "stream",
     "text": [
      "root\n",
      " |-- order_id: integer (nullable = true)\n",
      " |-- user_id: integer (nullable = true)\n",
      " |-- order_number: integer (nullable = true)\n",
      " |-- order_dow: integer (nullable = true)\n",
      " |-- order_hour_of_day: integer (nullable = true)\n",
      " |-- days_since_prior_order: double (nullable = true)\n",
      " |-- frequency of reorder: long (nullable = true)\n",
      " |-- time_since_last_order: double (nullable = true)\n",
      " |-- contains_or_not: boolean (nullable = true)\n",
      " |-- max_count_of_products: long (nullable = true)\n",
      " |-- min_count_of_products: long (nullable = true)\n",
      " |-- mean_count_of_products: double (nullable = true)\n",
      " |-- doesnt_contains_reordered: integer (nullable = true)\n",
      "\n"
     ]
    }
   ],
   "source": [
    "result_df = (\n",
    "    prior_orders_df.join(\n",
    "        df_with_num_of_reord , on = \"user_id\" ,how = 'left'\n",
    "    )\n",
    "    .join(\n",
    "        df_with_time_since_prev_ord , on = \"order_id\" , how = \"left\"\n",
    "    )\n",
    "    .join(\n",
    "        df_with_does_usr_asian_gluten_orga_items_ord , on = \"order_id\" , how = 'left'\n",
    "    )\n",
    "    .join(\n",
    "        df_with_fets_of_ord_size , on = 'user_id' , how = 'left'\n",
    "    )\n",
    "    .join(\n",
    "        df_with_freq_ord_that_hasnt_prev_purch_items , on = \"order_id\",how='left'\n",
    "    )\n",
    ")\n",
    "result_df.printSchema()"
   ]
  },
  {
   "cell_type": "code",
   "execution_count": 32,
   "id": "e71b39cf",
   "metadata": {
    "execution": {
     "iopub.execute_input": "2024-10-11T11:21:49.780293Z",
     "iopub.status.busy": "2024-10-11T11:21:49.779473Z",
     "iopub.status.idle": "2024-10-11T11:21:49.871552Z",
     "shell.execute_reply": "2024-10-11T11:21:49.869478Z"
    },
    "papermill": {
     "duration": 0.118707,
     "end_time": "2024-10-11T11:21:49.874120",
     "exception": false,
     "start_time": "2024-10-11T11:21:49.755413",
     "status": "completed"
    },
    "tags": []
   },
   "outputs": [
    {
     "name": "stdout",
     "output_type": "stream",
     "text": [
      "root\n",
      " |-- order_id: integer (nullable = true)\n",
      " |-- user_id: integer (nullable = true)\n",
      " |-- order_number: integer (nullable = true)\n",
      " |-- order_dow: integer (nullable = true)\n",
      " |-- order_hour_of_day: integer (nullable = true)\n",
      " |-- days_since_prior_order: double (nullable = true)\n",
      " |-- frequency of reorder: double (nullable = true)\n",
      " |-- time_since_last_order: double (nullable = true)\n",
      " |-- contains_or_not: boolean (nullable = true)\n",
      " |-- max_count_of_products: double (nullable = true)\n",
      " |-- min_count_of_products: double (nullable = true)\n",
      " |-- mean_count_of_products: double (nullable = true)\n",
      " |-- doesnt_contains_reordered: integer (nullable = true)\n",
      "\n"
     ]
    }
   ],
   "source": [
    "long_cols = [field.name for field in result_df.schema.fields if isinstance(field.dataType, LongType)]\n",
    "\n",
    "# Create a dictionary where aggregatethe key is the column name, and the value is the cast operation\n",
    "columns_to_cast = {col_name: F.col(col_name).cast(DoubleType()) for col_name in long_cols}\n",
    "\n",
    "result_df = result_df.withColumns(columns_to_cast)\n",
    "result_df.printSchema()"
   ]
  },
  {
   "cell_type": "code",
   "execution_count": 33,
   "id": "08470f63",
   "metadata": {
    "execution": {
     "iopub.execute_input": "2024-10-11T11:21:49.926910Z",
     "iopub.status.busy": "2024-10-11T11:21:49.926501Z",
     "iopub.status.idle": "2024-10-11T11:21:50.297468Z",
     "shell.execute_reply": "2024-10-11T11:21:50.296300Z"
    },
    "papermill": {
     "duration": 0.396455,
     "end_time": "2024-10-11T11:21:50.300106",
     "exception": false,
     "start_time": "2024-10-11T11:21:49.903651",
     "status": "completed"
    },
    "tags": []
   },
   "outputs": [
    {
     "name": "stdout",
     "output_type": "stream",
     "text": [
      "root\n",
      " |-- product_id: integer (nullable = true)\n",
      " |-- product_mean_of_position: double (nullable = true)\n",
      " |-- number_of_user_purchased_item: long (nullable = true)\n",
      " |-- number_of_product_co_occurred: long (nullable = true)\n",
      " |-- product_id: integer (nullable = true)\n",
      " |-- mean_of_co_ocuured_product_per_order: double (nullable = true)\n",
      " |-- min_of_co_ocuured_product_per_order: long (nullable = true)\n",
      " |-- max_of_co_ocuured_product_per_order: long (nullable = true)\n",
      " |-- Total_streak_of_this_product: long (nullable = true)\n",
      " |-- mean_of_streaks_of_this_product: double (nullable = true)\n",
      " |-- max_of_streaks_of_this_product: long (nullable = true)\n",
      " |-- min_of_streaks_of_this_product: long (nullable = true)\n",
      " |-- prob_of_reordered_5: double (nullable = true)\n",
      " |-- prob_of_reordered_3: double (nullable = true)\n",
      " |-- prob_of_reordered_2: double (nullable = true)\n",
      " |-- distrib_count_of_dow_0_p_prod: long (nullable = true)\n",
      " |-- distrib_count_of_dow_1_p_prod: long (nullable = true)\n",
      " |-- distrib_count_of_dow_2_p_prod: long (nullable = true)\n",
      " |-- distrib_count_of_dow_3_p_prod: long (nullable = true)\n",
      " |-- distrib_count_of_dow_4_p_prod: long (nullable = true)\n",
      " |-- distrib_count_of_dow_5_p_prod: long (nullable = true)\n",
      " |-- distrib_count_of_dow_6_p_prod: long (nullable = true)\n",
      " |-- prob_of_being_reordered: double (nullable = true)\n",
      " |-- aisle_id: string (nullable = true)\n",
      " |-- department_id: string (nullable = true)\n",
      "\n"
     ]
    }
   ],
   "source": [
    "result_product_df = (\n",
    "    df_with_avg_position_of_prod\n",
    "    .join(\n",
    "        df_with_freq_one_shot_ord_prods , on = 'product_id' , how = 'left'\n",
    "    )\n",
    "    .join(\n",
    "        df_with_freq_co_ocrd , on = \"product_id\" , how = 'left'\n",
    "    )\n",
    "    .join(\n",
    "        df_with_avg_num_item_co_ocrd_in_ord , df_with_avg_num_item_co_ocrd_in_ord[\"ppo1.product_id\"] == prior_product_orders[\"product_id\"] , how =\"left\"\n",
    "    )\n",
    "    .join(\n",
    "        df_with_stats_of_streaks , on = 'product_id' , how = 'left'\n",
    "    )\n",
    "    .join(\n",
    "        df_with_prob_greater_5 , on = 'product_id' , how = \"left\"\n",
    "    )\n",
    "    .join(\n",
    "        df_with_prob_greater_3 , on = 'product_id' , how = \"left\"\n",
    "    )\n",
    "    .join(\n",
    "        df_with_prob_greater_2 , on = 'product_id' , how = \"left\"\n",
    "    )\n",
    "    .join(\n",
    "        df_with_count_of_dow_p_prod , on = 'product_id', how = 'left'\n",
    "    )\n",
    "    .join(\n",
    "        df_with_prob_reord , on = 'product_id' , how = 'left'\n",
    "    )\n",
    "    .join(\n",
    "        products_df.drop(\"product_name\") , on = 'product_id' , how = 'left'\n",
    "    )\n",
    ")\n",
    "result_product_df.printSchema()"
   ]
  },
  {
   "cell_type": "code",
   "execution_count": 34,
   "id": "7ccfcb30",
   "metadata": {
    "execution": {
     "iopub.execute_input": "2024-10-11T11:21:50.340293Z",
     "iopub.status.busy": "2024-10-11T11:21:50.339866Z",
     "iopub.status.idle": "2024-10-11T11:21:50.505868Z",
     "shell.execute_reply": "2024-10-11T11:21:50.504602Z"
    },
    "papermill": {
     "duration": 0.189906,
     "end_time": "2024-10-11T11:21:50.509115",
     "exception": false,
     "start_time": "2024-10-11T11:21:50.319209",
     "status": "completed"
    },
    "tags": []
   },
   "outputs": [
    {
     "name": "stdout",
     "output_type": "stream",
     "text": [
      "root\n",
      " |-- product_id: integer (nullable = true)\n",
      " |-- product_mean_of_position: double (nullable = true)\n",
      " |-- number_of_user_purchased_item: double (nullable = true)\n",
      " |-- number_of_product_co_occurred: double (nullable = true)\n",
      " |-- product_id: integer (nullable = true)\n",
      " |-- mean_of_co_ocuured_product_per_order: double (nullable = true)\n",
      " |-- min_of_co_ocuured_product_per_order: double (nullable = true)\n",
      " |-- max_of_co_ocuured_product_per_order: double (nullable = true)\n",
      " |-- Total_streak_of_this_product: double (nullable = true)\n",
      " |-- mean_of_streaks_of_this_product: double (nullable = true)\n",
      " |-- max_of_streaks_of_this_product: double (nullable = true)\n",
      " |-- min_of_streaks_of_this_product: double (nullable = true)\n",
      " |-- prob_of_reordered_5: double (nullable = true)\n",
      " |-- prob_of_reordered_3: double (nullable = true)\n",
      " |-- prob_of_reordered_2: double (nullable = true)\n",
      " |-- distrib_count_of_dow_0_p_prod: double (nullable = true)\n",
      " |-- distrib_count_of_dow_1_p_prod: double (nullable = true)\n",
      " |-- distrib_count_of_dow_2_p_prod: double (nullable = true)\n",
      " |-- distrib_count_of_dow_3_p_prod: double (nullable = true)\n",
      " |-- distrib_count_of_dow_4_p_prod: double (nullable = true)\n",
      " |-- distrib_count_of_dow_5_p_prod: double (nullable = true)\n",
      " |-- distrib_count_of_dow_6_p_prod: double (nullable = true)\n",
      " |-- prob_of_being_reordered: double (nullable = true)\n",
      " |-- aisle_id: string (nullable = true)\n",
      " |-- department_id: string (nullable = true)\n",
      "\n"
     ]
    }
   ],
   "source": [
    "long_cols = [field.name for field in result_product_df.schema.fields if isinstance(field.dataType, LongType)]\n",
    "\n",
    "# Create a dictionary where aggregatethe key is the column name, and the value is the cast operation\n",
    "columns_to_cast = {col_name: F.col(col_name).cast(DoubleType()) for col_name in long_cols}\n",
    "\n",
    "result_product_df = result_product_df.withColumns(columns_to_cast)\n",
    "result_product_df.printSchema()"
   ]
  },
  {
   "cell_type": "code",
   "execution_count": 35,
   "id": "a4ec8376",
   "metadata": {
    "execution": {
     "iopub.execute_input": "2024-10-11T11:21:50.549867Z",
     "iopub.status.busy": "2024-10-11T11:21:50.548848Z",
     "iopub.status.idle": "2024-10-11T11:21:50.676695Z",
     "shell.execute_reply": "2024-10-11T11:21:50.675477Z"
    },
    "papermill": {
     "duration": 0.151084,
     "end_time": "2024-10-11T11:21:50.679317",
     "exception": false,
     "start_time": "2024-10-11T11:21:50.528233",
     "status": "completed"
    },
    "tags": []
   },
   "outputs": [
    {
     "name": "stdout",
     "output_type": "stream",
     "text": [
      "root\n",
      " |-- order_id: integer (nullable = true)\n",
      " |-- product_id_p: integer (nullable = true)\n",
      " |-- add_to_cart_order: integer (nullable = true)\n",
      " |-- reordered: integer (nullable = true)\n",
      " |-- user_id_p: integer (nullable = true)\n",
      " |-- num_of_ord_purch_p_prod: long (nullable = true)\n",
      " |-- prod_mean_of_position_p_user: double (nullable = true)\n",
      " |-- num_of_prod_co_ocrd_p_usr_p_prod: long (nullable = true)\n",
      "\n"
     ]
    }
   ],
   "source": [
    "result_usr_prod_df = (\n",
    "    prior_product_orders\n",
    "    .withColumnRenamed(\"product_id\",\"product_id_p\")\n",
    "    .alias(\"ppo\")\n",
    "    .join(\n",
    "        prior_orders_df.select(\"user_id\",\"order_id\").withColumnRenamed(\"user_id\",\"user_id_p\").alias(\"pod\") , on = 'order_id' , how = 'left'\n",
    "    )\n",
    "    .join(\n",
    "        df_with_num_of_order_p_product ,\n",
    "            (F.col(\"pod.user_id_p\") == df_with_num_of_order_p_product['user_id']) &\n",
    "            (F.col(\"ppo.product_id_p\") == df_with_num_of_order_p_product['product_id']) \n",
    "        , how = 'left'\n",
    "    ).drop(\"user_id\",\"product_id\")\n",
    "    .join(\n",
    "        df_with_position_cart_p_usr_p_prod ,\n",
    "        (df_with_position_cart_p_usr_p_prod[\"user_id\"] == F.col(\"pod.user_id_p\")) &\n",
    "        (df_with_position_cart_p_usr_p_prod[\"product_id\"] == F.col(\"ppo.product_id_p\"))\n",
    "        ,how = 'left'\n",
    "    ).drop(\"user_id\",\"product_id\")\n",
    "    .join(\n",
    "        df_with_co_ocrd_stats_p_user_p_prod ,\n",
    "        (df_with_co_ocrd_stats_p_user_p_prod[\"user_id\"] == F.col(\"pod.user_id_p\") ) &\n",
    "        (df_with_co_ocrd_stats_p_user_p_prod[\"product_id\"] == F.col(\"ppo.product_id_p\"))\n",
    "        , how = 'left'\n",
    "    ).drop(\"user_id\",\"product_id\")\n",
    ")\n",
    "result_usr_prod_df.printSchema()"
   ]
  },
  {
   "cell_type": "code",
   "execution_count": 36,
   "id": "b2d5471d",
   "metadata": {
    "execution": {
     "iopub.execute_input": "2024-10-11T11:21:50.719440Z",
     "iopub.status.busy": "2024-10-11T11:21:50.718983Z",
     "iopub.status.idle": "2024-10-11T11:21:50.753574Z",
     "shell.execute_reply": "2024-10-11T11:21:50.752321Z"
    },
    "papermill": {
     "duration": 0.058492,
     "end_time": "2024-10-11T11:21:50.756861",
     "exception": false,
     "start_time": "2024-10-11T11:21:50.698369",
     "status": "completed"
    },
    "tags": []
   },
   "outputs": [
    {
     "name": "stdout",
     "output_type": "stream",
     "text": [
      "root\n",
      " |-- order_id: integer (nullable = true)\n",
      " |-- product_id_p: integer (nullable = true)\n",
      " |-- add_to_cart_order: integer (nullable = true)\n",
      " |-- reordered: integer (nullable = true)\n",
      " |-- user_id_p: integer (nullable = true)\n",
      " |-- num_of_ord_purch_p_prod: double (nullable = true)\n",
      " |-- prod_mean_of_position_p_user: double (nullable = true)\n",
      " |-- num_of_prod_co_ocrd_p_usr_p_prod: double (nullable = true)\n",
      "\n"
     ]
    }
   ],
   "source": [
    "long_cols = [field.name for field in result_usr_prod_df.schema.fields if isinstance(field.dataType, LongType)]\n",
    "\n",
    "# Create a dictionary where aggregatethe key is the column name, and the value is the cast operation\n",
    "columns_to_cast = {col_name: F.col(col_name).cast(DoubleType()) for col_name in long_cols}\n",
    "\n",
    "result_usr_prod_df = result_usr_prod_df.withColumns(columns_to_cast)\n",
    "result_usr_prod_df.printSchema()"
   ]
  },
  {
   "cell_type": "code",
   "execution_count": 37,
   "id": "5d39e079",
   "metadata": {
    "execution": {
     "iopub.execute_input": "2024-10-11T11:21:50.799076Z",
     "iopub.status.busy": "2024-10-11T11:21:50.798048Z",
     "iopub.status.idle": "2024-10-11T11:21:50.855265Z",
     "shell.execute_reply": "2024-10-11T11:21:50.854032Z"
    },
    "papermill": {
     "duration": 0.080761,
     "end_time": "2024-10-11T11:21:50.858845",
     "exception": false,
     "start_time": "2024-10-11T11:21:50.778084",
     "status": "completed"
    },
    "tags": []
   },
   "outputs": [
    {
     "name": "stdout",
     "output_type": "stream",
     "text": [
      "root\n",
      " |-- order_hour_of_day: integer (nullable = true)\n",
      " |-- order_dow: integer (nullable = true)\n",
      " |-- order_id: integer (nullable = true)\n",
      " |-- user_id: integer (nullable = true)\n",
      " |-- order_number: integer (nullable = true)\n",
      " |-- days_since_prior_order: double (nullable = true)\n",
      " |-- frequency of reorder: double (nullable = true)\n",
      " |-- time_since_last_order: double (nullable = true)\n",
      " |-- contains_or_not: boolean (nullable = true)\n",
      " |-- max_count_of_products: double (nullable = true)\n",
      " |-- min_count_of_products: double (nullable = true)\n",
      " |-- mean_count_of_products: double (nullable = true)\n",
      " |-- doesnt_contains_reordered: integer (nullable = true)\n",
      " |-- total_ord_count_p_dow: long (nullable = true)\n",
      " |-- total_ord_count_p_ohod: long (nullable = true)\n",
      "\n"
     ]
    }
   ],
   "source": [
    "result_df_with_time_df = (\n",
    "    result_df.join(\n",
    "        df_with_count_of_dow , on = \"order_dow\" , how = 'left'\n",
    "    )\n",
    "    .join(\n",
    "       df_with_count_of_ohod , on = 'order_hour_of_day' , how = 'left'\n",
    "    )\n",
    ")\n",
    "result_df_with_time_df.printSchema()"
   ]
  },
  {
   "cell_type": "code",
   "execution_count": 38,
   "id": "8292af66",
   "metadata": {
    "execution": {
     "iopub.execute_input": "2024-10-11T11:21:50.905249Z",
     "iopub.status.busy": "2024-10-11T11:21:50.904816Z",
     "iopub.status.idle": "2024-10-11T11:21:50.944660Z",
     "shell.execute_reply": "2024-10-11T11:21:50.942546Z"
    },
    "papermill": {
     "duration": 0.063235,
     "end_time": "2024-10-11T11:21:50.947413",
     "exception": false,
     "start_time": "2024-10-11T11:21:50.884178",
     "status": "completed"
    },
    "tags": []
   },
   "outputs": [
    {
     "name": "stdout",
     "output_type": "stream",
     "text": [
      "root\n",
      " |-- order_hour_of_day: integer (nullable = true)\n",
      " |-- order_dow: integer (nullable = true)\n",
      " |-- order_id: integer (nullable = true)\n",
      " |-- user_id: integer (nullable = true)\n",
      " |-- order_number: integer (nullable = true)\n",
      " |-- days_since_prior_order: double (nullable = true)\n",
      " |-- frequency of reorder: double (nullable = true)\n",
      " |-- time_since_last_order: double (nullable = true)\n",
      " |-- contains_or_not: boolean (nullable = true)\n",
      " |-- max_count_of_products: double (nullable = true)\n",
      " |-- min_count_of_products: double (nullable = true)\n",
      " |-- mean_count_of_products: double (nullable = true)\n",
      " |-- doesnt_contains_reordered: integer (nullable = true)\n",
      " |-- total_ord_count_p_dow: double (nullable = true)\n",
      " |-- total_ord_count_p_ohod: double (nullable = true)\n",
      "\n"
     ]
    }
   ],
   "source": [
    "long_cols = [field.name for field in result_df_with_time_df.schema.fields if isinstance(field.dataType, LongType)]\n",
    "\n",
    "# Create a dictionary where aggregatethe key is the column name, and the value is the cast operation\n",
    "columns_to_cast = {col_name: F.col(col_name).cast(DoubleType()) for col_name in long_cols}\n",
    "\n",
    "result_df_with_time_df = result_df_with_time_df.withColumns(columns_to_cast)\n",
    "result_df_with_time_df.printSchema()"
   ]
  },
  {
   "cell_type": "code",
   "execution_count": 39,
   "id": "223d9f99",
   "metadata": {
    "execution": {
     "iopub.execute_input": "2024-10-11T11:21:50.988432Z",
     "iopub.status.busy": "2024-10-11T11:21:50.987843Z",
     "iopub.status.idle": "2024-10-11T11:21:51.136979Z",
     "shell.execute_reply": "2024-10-11T11:21:51.135596Z"
    },
    "papermill": {
     "duration": 0.172869,
     "end_time": "2024-10-11T11:21:51.140084",
     "exception": false,
     "start_time": "2024-10-11T11:21:50.967215",
     "status": "completed"
    },
    "tags": []
   },
   "outputs": [],
   "source": [
    "final_prior_ord_train_df = (\n",
    "    result_usr_prod_df.join(\n",
    "        result_df_with_time_df.drop(\"user_id\"),\n",
    "        on = \"order_id\",how='left'\n",
    "    )\n",
    "    .join(\n",
    "        result_product_df.drop(\"user_id\") ,\n",
    "        (F.col(\"product_id_p\") == result_product_df['ppo1.product_id'])\n",
    "        , how = 'left'\n",
    "    ).drop(\"product_id\")\n",
    ")\n"
   ]
  },
  {
   "cell_type": "code",
   "execution_count": 40,
   "id": "59538f59",
   "metadata": {
    "execution": {
     "iopub.execute_input": "2024-10-11T11:21:51.182192Z",
     "iopub.status.busy": "2024-10-11T11:21:51.181613Z",
     "iopub.status.idle": "2024-10-11T11:21:51.190657Z",
     "shell.execute_reply": "2024-10-11T11:21:51.189118Z"
    },
    "papermill": {
     "duration": 0.033744,
     "end_time": "2024-10-11T11:21:51.193611",
     "exception": false,
     "start_time": "2024-10-11T11:21:51.159867",
     "status": "completed"
    },
    "tags": []
   },
   "outputs": [
    {
     "name": "stdout",
     "output_type": "stream",
     "text": [
      "root\n",
      " |-- order_id: integer (nullable = true)\n",
      " |-- product_id_p: integer (nullable = true)\n",
      " |-- add_to_cart_order: integer (nullable = true)\n",
      " |-- reordered: integer (nullable = true)\n",
      " |-- user_id_p: integer (nullable = true)\n",
      " |-- num_of_ord_purch_p_prod: double (nullable = true)\n",
      " |-- prod_mean_of_position_p_user: double (nullable = true)\n",
      " |-- num_of_prod_co_ocrd_p_usr_p_prod: double (nullable = true)\n",
      " |-- order_hour_of_day: integer (nullable = true)\n",
      " |-- order_dow: integer (nullable = true)\n",
      " |-- order_number: integer (nullable = true)\n",
      " |-- days_since_prior_order: double (nullable = true)\n",
      " |-- frequency of reorder: double (nullable = true)\n",
      " |-- time_since_last_order: double (nullable = true)\n",
      " |-- contains_or_not: boolean (nullable = true)\n",
      " |-- max_count_of_products: double (nullable = true)\n",
      " |-- min_count_of_products: double (nullable = true)\n",
      " |-- mean_count_of_products: double (nullable = true)\n",
      " |-- doesnt_contains_reordered: integer (nullable = true)\n",
      " |-- total_ord_count_p_dow: double (nullable = true)\n",
      " |-- total_ord_count_p_ohod: double (nullable = true)\n",
      " |-- product_mean_of_position: double (nullable = true)\n",
      " |-- number_of_user_purchased_item: double (nullable = true)\n",
      " |-- number_of_product_co_occurred: double (nullable = true)\n",
      " |-- mean_of_co_ocuured_product_per_order: double (nullable = true)\n",
      " |-- min_of_co_ocuured_product_per_order: double (nullable = true)\n",
      " |-- max_of_co_ocuured_product_per_order: double (nullable = true)\n",
      " |-- Total_streak_of_this_product: double (nullable = true)\n",
      " |-- mean_of_streaks_of_this_product: double (nullable = true)\n",
      " |-- max_of_streaks_of_this_product: double (nullable = true)\n",
      " |-- min_of_streaks_of_this_product: double (nullable = true)\n",
      " |-- prob_of_reordered_5: double (nullable = true)\n",
      " |-- prob_of_reordered_3: double (nullable = true)\n",
      " |-- prob_of_reordered_2: double (nullable = true)\n",
      " |-- distrib_count_of_dow_0_p_prod: double (nullable = true)\n",
      " |-- distrib_count_of_dow_1_p_prod: double (nullable = true)\n",
      " |-- distrib_count_of_dow_2_p_prod: double (nullable = true)\n",
      " |-- distrib_count_of_dow_3_p_prod: double (nullable = true)\n",
      " |-- distrib_count_of_dow_4_p_prod: double (nullable = true)\n",
      " |-- distrib_count_of_dow_5_p_prod: double (nullable = true)\n",
      " |-- distrib_count_of_dow_6_p_prod: double (nullable = true)\n",
      " |-- prob_of_being_reordered: double (nullable = true)\n",
      " |-- aisle_id: string (nullable = true)\n",
      " |-- department_id: string (nullable = true)\n",
      "\n"
     ]
    }
   ],
   "source": [
    "final_prior_ord_train_df.printSchema()"
   ]
  },
  {
   "cell_type": "code",
   "execution_count": 41,
   "id": "ec956c82",
   "metadata": {
    "execution": {
     "iopub.execute_input": "2024-10-11T11:21:51.235231Z",
     "iopub.status.busy": "2024-10-11T11:21:51.234567Z",
     "iopub.status.idle": "2024-10-11T11:49:54.932683Z",
     "shell.execute_reply": "2024-10-11T11:49:54.929975Z"
    },
    "papermill": {
     "duration": 1683.723651,
     "end_time": "2024-10-11T11:49:54.936734",
     "exception": false,
     "start_time": "2024-10-11T11:21:51.213083",
     "status": "completed"
    },
    "tags": []
   },
   "outputs": [
    {
     "name": "stderr",
     "output_type": "stream",
     "text": [
      "24/10/11 11:21:52 WARN SparkStringUtils: Truncated the string representation of a plan since it was too large. This behavior can be adjusted by setting 'spark.sql.debug.maxToStringFields'.\n",
      "                                                                                \r"
     ]
    }
   ],
   "source": [
    "final_prior_ord_train_df.coalesce(1).write.mode('overwrite').csv('/kaggle/working/final_prior_ord_train_df',header=True)"
   ]
  },
  {
   "cell_type": "code",
   "execution_count": null,
   "id": "755969c5",
   "metadata": {
    "papermill": {
     "duration": 0.047362,
     "end_time": "2024-10-11T11:49:55.038595",
     "exception": false,
     "start_time": "2024-10-11T11:49:54.991233",
     "status": "completed"
    },
    "tags": []
   },
   "outputs": [],
   "source": []
  }
 ],
 "metadata": {
  "kaggle": {
   "accelerator": "none",
   "dataSources": [
    {
     "datasetId": 4931,
     "sourceId": 7487,
     "sourceType": "datasetVersion"
    },
    {
     "datasetId": 5855488,
     "sourceId": 9598706,
     "sourceType": "datasetVersion"
    }
   ],
   "dockerImageVersionId": 30786,
   "isGpuEnabled": false,
   "isInternetEnabled": true,
   "language": "python",
   "sourceType": "notebook"
  },
  "kernelspec": {
   "display_name": "Python 3",
   "language": "python",
   "name": "python3"
  },
  "language_info": {
   "codemirror_mode": {
    "name": "ipython",
    "version": 3
   },
   "file_extension": ".py",
   "mimetype": "text/x-python",
   "name": "python",
   "nbconvert_exporter": "python",
   "pygments_lexer": "ipython3",
   "version": "3.10.14"
  },
  "papermill": {
   "default_parameters": {},
   "duration": 1814.336759,
   "end_time": "2024-10-11T11:49:57.737757",
   "environment_variables": {},
   "exception": null,
   "input_path": "__notebook__.ipynb",
   "output_path": "__notebook__.ipynb",
   "parameters": {},
   "start_time": "2024-10-11T11:19:43.400998",
   "version": "2.6.0"
  }
 },
 "nbformat": 4,
 "nbformat_minor": 5
}
